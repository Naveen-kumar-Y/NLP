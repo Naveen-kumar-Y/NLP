{
  "nbformat": 4,
  "nbformat_minor": 0,
  "metadata": {
    "colab": {
      "name": "Predict tags on StackOverflow with linear models.ipynb",
      "provenance": [],
      "collapsed_sections": [],
      "authorship_tag": "ABX9TyOjiDP658LBDQREpNAXkKUG",
      "include_colab_link": true
    },
    "kernelspec": {
      "name": "python3",
      "display_name": "Python 3"
    }
  },
  "cells": [
    {
      "cell_type": "markdown",
      "metadata": {
        "id": "view-in-github",
        "colab_type": "text"
      },
      "source": [
        "<a href=\"https://colab.research.google.com/github/Naveen-kumar-Y/NLP/blob/master/Predict_tags_on_StackOverflow_with_linear_models.ipynb\" target=\"_parent\"><img src=\"https://colab.research.google.com/assets/colab-badge.svg\" alt=\"Open In Colab\"/></a>"
      ]
    },
    {
      "cell_type": "code",
      "metadata": {
        "id": "0zIbAYrBBhGd",
        "colab": {
          "base_uri": "https://localhost:8080/"
        },
        "outputId": "75d31428-bbd4-4a91-ccc7-0426595ead79"
      },
      "source": [
        "try:\n",
        "    import google.colab\n",
        "    IN_COLAB = True\n",
        "except:\n",
        "    IN_COLAB = False\n",
        "\n",
        "if IN_COLAB:\n",
        "    ! wget https://raw.githubusercontent.com/hse-aml/natural-language-processing/master/setup_google_colab.py -O setup_google_colab.py\n",
        "    import setup_google_colab\n",
        "    setup_google_colab.setup_week1() \n",
        "    \n",
        "import sys\n",
        "sys.path.append(\"..\")\n",
        "from common.download_utils import download_week1_resources\n",
        "\n",
        "download_week1_resources()"
      ],
      "execution_count": 56,
      "outputs": [
        {
          "output_type": "stream",
          "text": [
            "--2020-12-27 06:49:38--  https://raw.githubusercontent.com/hse-aml/natural-language-processing/master/setup_google_colab.py\n",
            "Resolving raw.githubusercontent.com (raw.githubusercontent.com)... 151.101.0.133, 151.101.64.133, 151.101.128.133, ...\n",
            "Connecting to raw.githubusercontent.com (raw.githubusercontent.com)|151.101.0.133|:443... connected.\n",
            "HTTP request sent, awaiting response... 200 OK\n",
            "Length: 1939 (1.9K) [text/plain]\n",
            "Saving to: ‘setup_google_colab.py’\n",
            "\n",
            "setup_google_colab. 100%[===================>]   1.89K  --.-KB/s    in 0s      \n",
            "\n",
            "2020-12-27 06:49:39 (28.4 MB/s) - ‘setup_google_colab.py’ saved [1939/1939]\n",
            "\n",
            "File data/train.tsv is already downloaded.\n",
            "File data/validation.tsv is already downloaded.\n",
            "File data/test.tsv is already downloaded.\n",
            "File data/text_prepare_tests.tsv is already downloaded.\n"
          ],
          "name": "stdout"
        }
      ]
    },
    {
      "cell_type": "code",
      "metadata": {
        "id": "Rjmlh7woCOO2"
      },
      "source": [
        "from grader import Grader\n"
      ],
      "execution_count": 57,
      "outputs": []
    },
    {
      "cell_type": "code",
      "metadata": {
        "id": "YMSe4vWDCwgK"
      },
      "source": [
        "grader = Grader()\n"
      ],
      "execution_count": 58,
      "outputs": []
    },
    {
      "cell_type": "code",
      "metadata": {
        "id": "7-gSTm7zCy8K",
        "colab": {
          "base_uri": "https://localhost:8080/"
        },
        "outputId": "d484af73-8b68-433b-bc11-8e9b69b7c1d6"
      },
      "source": [
        "import nltk\n",
        "nltk.download('stopwords')\n",
        "from nltk.corpus import stopwords"
      ],
      "execution_count": 59,
      "outputs": [
        {
          "output_type": "stream",
          "text": [
            "[nltk_data] Downloading package stopwords to /root/nltk_data...\n",
            "[nltk_data]   Package stopwords is already up-to-date!\n"
          ],
          "name": "stderr"
        }
      ]
    },
    {
      "cell_type": "code",
      "metadata": {
        "id": "XHxLdzq7DBWZ"
      },
      "source": [
        "from ast import literal_eval\n",
        "import pandas as pd\n",
        "import numpy as np"
      ],
      "execution_count": 60,
      "outputs": []
    },
    {
      "cell_type": "code",
      "metadata": {
        "id": "K43N2DF4DU-Z"
      },
      "source": [
        "def read_data(filename):\n",
        "    data = pd.read_csv(filename, sep='\\t')\n",
        "    data['tags'] = data['tags'].apply(literal_eval)\n",
        "    return data"
      ],
      "execution_count": 61,
      "outputs": []
    },
    {
      "cell_type": "code",
      "metadata": {
        "id": "MMG944vmFPoi"
      },
      "source": [
        "train = read_data('data/train.tsv')\n",
        "validation = read_data('data/validation.tsv')\n",
        "test = pd.read_csv('data/test.tsv', sep='\\t')"
      ],
      "execution_count": 62,
      "outputs": []
    },
    {
      "cell_type": "code",
      "metadata": {
        "id": "4YJStlhGFlI3",
        "colab": {
          "base_uri": "https://localhost:8080/",
          "height": 195
        },
        "outputId": "4f9356f5-edc0-4f9c-d39f-14f55f232a53"
      },
      "source": [
        "train.head()"
      ],
      "execution_count": 63,
      "outputs": [
        {
          "output_type": "execute_result",
          "data": {
            "text/html": [
              "<div>\n",
              "<style scoped>\n",
              "    .dataframe tbody tr th:only-of-type {\n",
              "        vertical-align: middle;\n",
              "    }\n",
              "\n",
              "    .dataframe tbody tr th {\n",
              "        vertical-align: top;\n",
              "    }\n",
              "\n",
              "    .dataframe thead th {\n",
              "        text-align: right;\n",
              "    }\n",
              "</style>\n",
              "<table border=\"1\" class=\"dataframe\">\n",
              "  <thead>\n",
              "    <tr style=\"text-align: right;\">\n",
              "      <th></th>\n",
              "      <th>title</th>\n",
              "      <th>tags</th>\n",
              "    </tr>\n",
              "  </thead>\n",
              "  <tbody>\n",
              "    <tr>\n",
              "      <th>0</th>\n",
              "      <td>How to draw a stacked dotplot in R?</td>\n",
              "      <td>[r]</td>\n",
              "    </tr>\n",
              "    <tr>\n",
              "      <th>1</th>\n",
              "      <td>mysql select all records where a datetime fiel...</td>\n",
              "      <td>[php, mysql]</td>\n",
              "    </tr>\n",
              "    <tr>\n",
              "      <th>2</th>\n",
              "      <td>How to terminate windows phone 8.1 app</td>\n",
              "      <td>[c#]</td>\n",
              "    </tr>\n",
              "    <tr>\n",
              "      <th>3</th>\n",
              "      <td>get current time in a specific country via jquery</td>\n",
              "      <td>[javascript, jquery]</td>\n",
              "    </tr>\n",
              "    <tr>\n",
              "      <th>4</th>\n",
              "      <td>Configuring Tomcat to Use SSL</td>\n",
              "      <td>[java]</td>\n",
              "    </tr>\n",
              "  </tbody>\n",
              "</table>\n",
              "</div>"
            ],
            "text/plain": [
              "                                               title                  tags\n",
              "0                How to draw a stacked dotplot in R?                   [r]\n",
              "1  mysql select all records where a datetime fiel...          [php, mysql]\n",
              "2             How to terminate windows phone 8.1 app                  [c#]\n",
              "3  get current time in a specific country via jquery  [javascript, jquery]\n",
              "4                      Configuring Tomcat to Use SSL                [java]"
            ]
          },
          "metadata": {
            "tags": []
          },
          "execution_count": 63
        }
      ]
    },
    {
      "cell_type": "code",
      "metadata": {
        "id": "QXH3C3NPFt2c"
      },
      "source": [
        "X_train, y_train = train['title'].values, train['tags'].values\n",
        "X_val, y_val = validation['title'].values, validation['tags'].values\n",
        "X_test = test['title'].values"
      ],
      "execution_count": 64,
      "outputs": []
    },
    {
      "cell_type": "code",
      "metadata": {
        "id": "48aPV7mvI-RH",
        "colab": {
          "base_uri": "https://localhost:8080/"
        },
        "outputId": "674a55c6-3487-42b1-f17d-3aeb1e1e6c76"
      },
      "source": [
        "X_test"
      ],
      "execution_count": 65,
      "outputs": [
        {
          "output_type": "execute_result",
          "data": {
            "text/plain": [
              "array(['Warning: mysql_query() expects parameter 2 to be resource, object given',\n",
              "       \"get click coordinates from <input type='image'> via javascript\",\n",
              "       'How to implement cloud storage for media assets in ZF?', ...,\n",
              "       \"Javascript collection of DOM objects - why can't I reverse with Array.reverse()?\",\n",
              "       'How to exit (escape) a function from for loop inside of it?',\n",
              "       'How to re-ask for input in try catch statement'], dtype=object)"
            ]
          },
          "metadata": {
            "tags": []
          },
          "execution_count": 65
        }
      ]
    },
    {
      "cell_type": "code",
      "metadata": {
        "id": "VC0z625KJDAx"
      },
      "source": [
        "import re"
      ],
      "execution_count": 66,
      "outputs": []
    },
    {
      "cell_type": "code",
      "metadata": {
        "id": "r9zoDxusJSVn"
      },
      "source": [
        "REPLACE_BY_SPACE_RE = re.compile('[/(){}\\[\\]\\|@,;]')\n",
        "BAD_SYMBOLS_RE = re.compile('[^0-9a-z #+_]')\n",
        "STOPWORDS = set(stopwords.words('english'))\n",
        "\n",
        "def text_prepare(text):\n",
        "    \"\"\"\n",
        "        text: a string\n",
        "        \n",
        "        return: modified initial string\n",
        "    \"\"\"\n",
        "    text = text.lower() # lowercase text\n",
        "    text = re.sub(REPLACE_BY_SPACE_RE, \" \", text)# replace REPLACE_BY_SPACE_RE symbols by space in text\n",
        "    text = re.sub(BAD_SYMBOLS_RE, \"\", text)# delete symbols which are in BAD_SYMBOLS_RE from text\n",
        "    text = ' '.join([word for word in text.split() if word not in STOPWORDS])  # Remove stopwords\n",
        "    text = text.strip()\n",
        "    \n",
        "    \n",
        "    return text"
      ],
      "execution_count": 67,
      "outputs": []
    },
    {
      "cell_type": "code",
      "metadata": {
        "id": "h4LfMfdLPmAD"
      },
      "source": [
        "def test_text_prepare():\n",
        "    examples = [\"SQL Server - any equivalent of Excel's CHOOSE function?\",\n",
        "                \"How to free c++ memory vector<int> * arr?\"]\n",
        "    answers = [\"sql server equivalent excels choose function\", \n",
        "               \"free c++ memory vectorint arr\"]\n",
        "    for ex, ans in zip(examples, answers):\n",
        "      \n",
        "      if text_prepare(ex) != ans:\n",
        "          return \"Wrong answer for the case: '%s'\" % ex\n",
        "    return 'Basic tests are passed.'"
      ],
      "execution_count": 68,
      "outputs": []
    },
    {
      "cell_type": "code",
      "metadata": {
        "id": "k6sODb6DPmEj",
        "colab": {
          "base_uri": "https://localhost:8080/"
        },
        "outputId": "c29714c1-9e65-4a51-bdf3-a385bee47b86"
      },
      "source": [
        "print(test_text_prepare())\n"
      ],
      "execution_count": 69,
      "outputs": [
        {
          "output_type": "stream",
          "text": [
            "Basic tests are passed.\n"
          ],
          "name": "stdout"
        }
      ]
    },
    {
      "cell_type": "code",
      "metadata": {
        "id": "BnDFZw6xPmG0",
        "colab": {
          "base_uri": "https://localhost:8080/"
        },
        "outputId": "8946ae90-fa2e-4f36-f3f6-545eed81883c"
      },
      "source": [
        "prepared_questions = []\n",
        "for line in open('data/text_prepare_tests.tsv', encoding='utf-8'):\n",
        "    line = text_prepare(line.strip())\n",
        "    prepared_questions.append(line)\n",
        "text_prepare_results = '\\n'.join(prepared_questions)\n",
        "\n",
        "grader.submit_tag('TextPrepare', text_prepare_results)"
      ],
      "execution_count": 70,
      "outputs": [
        {
          "output_type": "stream",
          "text": [
            "Current answer for task TextPrepare is:\n",
            " sqlite php readonly\n",
            "creating multiple textboxes dynamically\n",
            "self one prefer javascript\n",
            "save php date...\n"
          ],
          "name": "stdout"
        }
      ]
    },
    {
      "cell_type": "code",
      "metadata": {
        "id": "UPOf8eDfWmEj"
      },
      "source": [
        "X_train = [text_prepare(x) for x in X_train]\n",
        "X_val = [text_prepare(x) for x in X_val]\n",
        "X_test = [text_prepare(x) for x in X_test]"
      ],
      "execution_count": 71,
      "outputs": []
    },
    {
      "cell_type": "code",
      "metadata": {
        "id": "cgVLjlNcWmJK",
        "colab": {
          "base_uri": "https://localhost:8080/"
        },
        "outputId": "68ecc9e0-de7f-4b6b-dde8-e4da42896d64"
      },
      "source": [
        "X_train[:10]\n"
      ],
      "execution_count": 72,
      "outputs": [
        {
          "output_type": "execute_result",
          "data": {
            "text/plain": [
              "['draw stacked dotplot r',\n",
              " 'mysql select records datetime field less specified value',\n",
              " 'terminate windows phone 81 app',\n",
              " 'get current time specific country via jquery',\n",
              " 'configuring tomcat use ssl',\n",
              " 'awesome nested set plugin add new children tree various levels',\n",
              " 'create map json response ruby rails 3',\n",
              " 'rspec test method called',\n",
              " 'springboot catalina lifecycle exception',\n",
              " 'import data excel mysql database using php']"
            ]
          },
          "metadata": {
            "tags": []
          },
          "execution_count": 72
        }
      ]
    },
    {
      "cell_type": "code",
      "metadata": {
        "id": "0tC7EcmuWmMC",
        "colab": {
          "base_uri": "https://localhost:8080/"
        },
        "outputId": "333782cf-fbca-42bc-ea72-bb1aa8f80193"
      },
      "source": [
        "from collections import Counter\n",
        "# Dictionary of all tags from train corpus with their counts.\n",
        "tags_counts = Counter() #{}\n",
        "# Dictionary of all words from train corpus with their counts.\n",
        "words_counts = Counter() #{}\n",
        "\n",
        "######################################\n",
        "######### YOUR CODE HERE #############\n",
        "######################################\n",
        "print(X_train[:3], y_train[:3])\n",
        "for sentence in X_train:\n",
        "    for word in sentence.split():\n",
        "        #print(word)\n",
        "        words_counts[word] += 1\n",
        "        #print(words_counts[word])\n",
        "\n",
        "for l in y_train:\n",
        "    for tag in l:\n",
        "        tags_counts[tag] += 1"
      ],
      "execution_count": 73,
      "outputs": [
        {
          "output_type": "stream",
          "text": [
            "['draw stacked dotplot r', 'mysql select records datetime field less specified value', 'terminate windows phone 81 app'] [list(['r']) list(['php', 'mysql']) list(['c#'])]\n"
          ],
          "name": "stdout"
        }
      ]
    },
    {
      "cell_type": "code",
      "metadata": {
        "id": "fKVP_nnhWmOz",
        "colab": {
          "base_uri": "https://localhost:8080/"
        },
        "outputId": "6160332f-db2c-4208-c602-350a396a8d74"
      },
      "source": [
        "most_common_tags = sorted(tags_counts.items(), key=lambda x: x[1], reverse=True)[:3]\n",
        "most_common_words = sorted(words_counts.items(), key=lambda x: x[1], reverse=True)[:3]\n",
        "\n",
        "grader.submit_tag('WordsTagsCount', '%s\\n%s' % (','.join(tag for tag, _ in most_common_tags), \n",
        "                                                ','.join(word for word, _ in most_common_words)))"
      ],
      "execution_count": 74,
      "outputs": [
        {
          "output_type": "stream",
          "text": [
            "Current answer for task WordsTagsCount is:\n",
            " javascript,c#,java\n",
            "using,php,java...\n"
          ],
          "name": "stdout"
        }
      ]
    },
    {
      "cell_type": "code",
      "metadata": {
        "id": "BB2zF3NPn_Jh",
        "colab": {
          "base_uri": "https://localhost:8080/"
        },
        "outputId": "f7f5a43f-3dbf-4e2f-9688-4aa81398688d"
      },
      "source": [
        "most_common_words = sorted(words_counts.items(), key=lambda x: x[1], reverse=True)[:5002]\n",
        "most_common_words"
      ],
      "execution_count": 75,
      "outputs": [
        {
          "output_type": "execute_result",
          "data": {
            "text/plain": [
              "[('using', 8278),\n",
              " ('php', 5614),\n",
              " ('java', 5501),\n",
              " ('file', 5055),\n",
              " ('javascript', 4746),\n",
              " ('error', 4388),\n",
              " ('get', 4301),\n",
              " ('c#', 4188),\n",
              " ('python', 4073),\n",
              " ('string', 3652),\n",
              " ('array', 3533),\n",
              " ('data', 3298),\n",
              " ('jquery', 3293),\n",
              " ('value', 3175),\n",
              " ('function', 2896),\n",
              " ('object', 2646),\n",
              " ('class', 2558),\n",
              " ('use', 2422),\n",
              " ('c++', 2312),\n",
              " ('list', 2137),\n",
              " ('method', 2123),\n",
              " ('multiple', 2096),\n",
              " ('text', 1929),\n",
              " ('image', 1849),\n",
              " ('page', 1847),\n",
              " ('rails', 1778),\n",
              " ('form', 1776),\n",
              " ('create', 1757),\n",
              " ('html', 1715),\n",
              " ('type', 1699),\n",
              " ('code', 1664),\n",
              " ('set', 1640),\n",
              " ('working', 1636),\n",
              " ('database', 1631),\n",
              " ('add', 1611),\n",
              " ('convert', 1586),\n",
              " ('mysql', 1572),\n",
              " ('json', 1557),\n",
              " ('c', 1550),\n",
              " ('server', 1543),\n",
              " ('variable', 1542),\n",
              " ('android', 1530),\n",
              " ('values', 1528),\n",
              " ('aspnet', 1506),\n",
              " ('way', 1454),\n",
              " ('application', 1451),\n",
              " ('change', 1441),\n",
              " ('button', 1385),\n",
              " ('find', 1383),\n",
              " ('django', 1373),\n",
              " ('one', 1370),\n",
              " ('without', 1369),\n",
              " ('windows', 1339),\n",
              " ('cannot', 1314),\n",
              " ('table', 1274),\n",
              " ('call', 1261),\n",
              " ('files', 1249),\n",
              " ('ajax', 1248),\n",
              " ('check', 1223),\n",
              " ('time', 1213),\n",
              " ('name', 1174),\n",
              " ('two', 1169),\n",
              " ('ruby', 1164),\n",
              " ('getting', 1159),\n",
              " ('date', 1137),\n",
              " ('web', 1129),\n",
              " ('make', 1127),\n",
              " ('input', 1120),\n",
              " ('user', 1120),\n",
              " ('xml', 1119),\n",
              " ('app', 1116),\n",
              " ('another', 1115),\n",
              " ('element', 1107),\n",
              " ('custom', 1093),\n",
              " ('event', 1088),\n",
              " ('api', 1083),\n",
              " ('access', 1074),\n",
              " ('url', 1057),\n",
              " ('number', 1052),\n",
              " ('spring', 1019),\n",
              " ('view', 1004),\n",
              " ('sql', 1001),\n",
              " ('return', 983),\n",
              " ('mvc', 981),\n",
              " ('select', 980),\n",
              " ('google', 974),\n",
              " ('query', 972),\n",
              " ('inside', 947),\n",
              " ('exception', 944),\n",
              " ('display', 943),\n",
              " ('column', 941),\n",
              " ('read', 940),\n",
              " ('loop', 940),\n",
              " ('swift', 934),\n",
              " ('new', 931),\n",
              " ('work', 931),\n",
              " ('remove', 931),\n",
              " ('load', 912),\n",
              " ('r', 896),\n",
              " ('objects', 867),\n",
              " ('property', 866),\n",
              " ('line', 862),\n",
              " ('cant', 859),\n",
              " ('pass', 840),\n",
              " ('click', 837),\n",
              " ('framework', 822),\n",
              " ('update', 821),\n",
              " ('script', 819),\n",
              " ('vs', 812),\n",
              " ('post', 806),\n",
              " ('null', 797),\n",
              " ('2', 795),\n",
              " ('creating', 794),\n",
              " ('net', 791),\n",
              " ('request', 787),\n",
              " ('different', 785),\n",
              " ('field', 778),\n",
              " ('key', 776),\n",
              " ('run', 776),\n",
              " ('row', 769),\n",
              " ('doesnt', 768),\n",
              " ('ios', 763),\n",
              " ('service', 751),\n",
              " ('linq', 736),\n",
              " ('div', 733),\n",
              " ('open', 723),\n",
              " ('window', 720),\n",
              " ('project', 717),\n",
              " ('wpf', 713),\n",
              " ('format', 706),\n",
              " ('best', 706),\n",
              " ('show', 695),\n",
              " ('controller', 694),\n",
              " ('variables', 694),\n",
              " ('undefined', 693),\n",
              " ('specific', 691),\n",
              " ('dynamically', 691),\n",
              " ('adding', 675),\n",
              " ('based', 657),\n",
              " ('angularjs', 653),\n",
              " ('control', 649),\n",
              " ('parameter', 648),\n",
              " ('send', 647),\n",
              " ('model', 644),\n",
              " ('3', 641),\n",
              " ('library', 639),\n",
              " ('difference', 639),\n",
              " ('insert', 636),\n",
              " ('first', 636),\n",
              " ('passing', 635),\n",
              " ('vbnet', 635),\n",
              " ('js', 632),\n",
              " ('regex', 628),\n",
              " ('elements', 627),\n",
              " ('codeigniter', 625),\n",
              " ('eclipse', 624),\n",
              " ('within', 624),\n",
              " ('path', 623),\n",
              " ('dynamic', 618),\n",
              " ('visual', 611),\n",
              " ('memory', 606),\n",
              " ('connection', 604),\n",
              " ('possible', 602),\n",
              " ('id', 598),\n",
              " ('thread', 597),\n",
              " ('save', 592),\n",
              " ('default', 591),\n",
              " ('via', 590),\n",
              " ('+', 590),\n",
              " ('running', 587),\n",
              " ('size', 585),\n",
              " ('program', 584),\n",
              " ('found', 584),\n",
              " ('content', 582),\n",
              " ('reference', 581),\n",
              " ('issue', 576),\n",
              " ('attribute', 571),\n",
              " ('write', 571),\n",
              " ('studio', 570),\n",
              " ('laravel', 561),\n",
              " ('search', 542),\n",
              " ('test', 540),\n",
              " ('excel', 540),\n",
              " ('static', 539),\n",
              " ('session', 537),\n",
              " ('output', 535),\n",
              " ('http', 530),\n",
              " ('character', 529),\n",
              " ('characters', 529),\n",
              " ('entity', 525),\n",
              " ('current', 523),\n",
              " ('problem', 522),\n",
              " ('client', 520),\n",
              " ('calling', 520),\n",
              " ('empty', 519),\n",
              " ('simple', 517),\n",
              " ('int', 517),\n",
              " ('css', 516),\n",
              " ('parameters', 515),\n",
              " ('upload', 515),\n",
              " ('command', 510),\n",
              " ('reading', 508),\n",
              " ('directory', 504),\n",
              " ('validation', 501),\n",
              " ('1', 498),\n",
              " ('map', 496),\n",
              " ('hibernate', 495),\n",
              " ('selected', 493),\n",
              " ('textbox', 492),\n",
              " ('unable', 491),\n",
              " ('browser', 486),\n",
              " ('images', 484),\n",
              " ('item', 484),\n",
              " ('link', 481),\n",
              " ('index', 480),\n",
              " ('facebook', 477),\n",
              " ('expression', 475),\n",
              " ('store', 474),\n",
              " ('setting', 474),\n",
              " ('delete', 472),\n",
              " ('single', 469),\n",
              " ('template', 468),\n",
              " ('like', 466),\n",
              " ('statement', 463),\n",
              " ('strings', 462),\n",
              " ('rows', 461),\n",
              " ('failed', 461),\n",
              " ('header', 460),\n",
              " ('replace', 460),\n",
              " ('loading', 459),\n",
              " ('login', 454),\n",
              " ('box', 453),\n",
              " ('iphone', 452),\n",
              " ('4', 450),\n",
              " ('numbers', 449),\n",
              " ('color', 448),\n",
              " ('nested', 446),\n",
              " ('returning', 445),\n",
              " ('print', 443),\n",
              " ('instance', 443),\n",
              " ('background', 443),\n",
              " ('pdf', 441),\n",
              " ('char', 440),\n",
              " ('parse', 440),\n",
              " ('could', 439),\n",
              " ('disable', 438),\n",
              " ('bootstrap', 435),\n",
              " ('message', 434),\n",
              " ('csv', 433),\n",
              " ('module', 433),\n",
              " ('tag', 426),\n",
              " ('chrome', 424),\n",
              " ('converting', 424),\n",
              " ('x', 421),\n",
              " ('parent', 419),\n",
              " ('invalid', 418),\n",
              " ('returns', 416),\n",
              " ('local', 414),\n",
              " ('methods', 409),\n",
              " ('need', 407),\n",
              " ('connect', 403),\n",
              " ('email', 401),\n",
              " ('changing', 400),\n",
              " ('trying', 399),\n",
              " ('response', 396),\n",
              " ('functions', 396),\n",
              " ('install', 393),\n",
              " ('redirect', 390),\n",
              " ('angular', 387),\n",
              " ('order', 387),\n",
              " ('dictionary', 386),\n",
              " ('arrays', 385),\n",
              " ('dropdown', 384),\n",
              " ('classes', 383),\n",
              " ('folder', 381),\n",
              " ('generate', 381),\n",
              " ('bar', 380),\n",
              " ('submit', 380),\n",
              " ('pandas', 379),\n",
              " ('process', 377),\n",
              " ('columns', 376),\n",
              " ('child', 375),\n",
              " ('source', 375),\n",
              " ('checkbox', 375),\n",
              " ('integer', 371),\n",
              " ('count', 369),\n",
              " ('sending', 368),\n",
              " ('parsing', 368),\n",
              " ('items', 368),\n",
              " ('start', 367),\n",
              " ('detect', 365),\n",
              " ('double', 365),\n",
              " ('datetime', 363),\n",
              " ('hide', 363),\n",
              " ('fields', 363),\n",
              " ('jsp', 363),\n",
              " ('console', 362),\n",
              " ('gridview', 359),\n",
              " ('pointer', 359),\n",
              " ('selenium', 357),\n",
              " ('linux', 356),\n",
              " ('constructor', 355),\n",
              " ('import', 354),\n",
              " ('random', 354),\n",
              " ('7', 354),\n",
              " ('programmatically', 353),\n",
              " ('action', 353),\n",
              " ('collection', 350),\n",
              " ('instead', 347),\n",
              " ('version', 344),\n",
              " ('datagridview', 342),\n",
              " ('filter', 340),\n",
              " ('sort', 340),\n",
              " ('objectivec', 338),\n",
              " ('website', 336),\n",
              " ('generic', 335),\n",
              " ('last', 334),\n",
              " ('result', 334),\n",
              " ('build', 333),\n",
              " ('system', 332),\n",
              " ('download', 331),\n",
              " ('split', 330),\n",
              " ('properties', 330),\n",
              " ('interface', 329),\n",
              " ('iframe', 329),\n",
              " ('back', 329),\n",
              " ('nodejs', 329),\n",
              " ('cell', 328),\n",
              " ('binding', 328),\n",
              " ('arguments', 328),\n",
              " ('datatable', 326),\n",
              " ('5', 326),\n",
              " ('syntax', 326),\n",
              " ('xcode', 325),\n",
              " ('scroll', 325),\n",
              " ('onclick', 323),\n",
              " ('binary', 323),\n",
              " ('external', 321),\n",
              " ('position', 319),\n",
              " ('execute', 318),\n",
              " ('0', 318),\n",
              " ('socket', 318),\n",
              " ('rest', 317),\n",
              " ('called', 316),\n",
              " ('missing', 316),\n",
              " ('word', 314),\n",
              " ('maps', 312),\n",
              " ('implement', 311),\n",
              " ('typeerror', 311),\n",
              " ('byte', 310),\n",
              " ('whats', 309),\n",
              " ('extension', 309),\n",
              " ('copy', 309),\n",
              " ('refresh', 308),\n",
              " ('video', 308),\n",
              " ('menu', 307),\n",
              " ('match', 306),\n",
              " ('given', 304),\n",
              " ('argument', 304),\n",
              " ('node', 304),\n",
              " ('wordpress', 303),\n",
              " ('include', 300),\n",
              " ('retrieve', 300),\n",
              " ('regular', 296),\n",
              " ('accessing', 294),\n",
              " ('forms', 292),\n",
              " ('canvas', 292),\n",
              " ('showing', 292),\n",
              " ('document', 291),\n",
              " ('results', 290),\n",
              " ('ui', 289),\n",
              " ('runtime', 289),\n",
              " ('arraylist', 287),\n",
              " ('defined', 287),\n",
              " ('handle', 285),\n",
              " ('drop', 282),\n",
              " ('group', 281),\n",
              " ('apache', 281),\n",
              " ('errors', 281),\n",
              " ('large', 279),\n",
              " ('opencv', 277),\n",
              " ('height', 277),\n",
              " ('compare', 277),\n",
              " ('wcf', 277),\n",
              " ('address', 276),\n",
              " ('ie', 276),\n",
              " ('mobile', 276),\n",
              " ('many', 275),\n",
              " ('properly', 275),\n",
              " ('member', 274),\n",
              " ('equivalent', 274),\n",
              " ('8', 273),\n",
              " ('screen', 273),\n",
              " ('exists', 273),\n",
              " ('global', 272),\n",
              " ('plugin', 270),\n",
              " ('password', 270),\n",
              " ('expected', 269),\n",
              " ('vector', 268),\n",
              " ('events', 268),\n",
              " ('jar', 268),\n",
              " ('maven', 268),\n",
              " ('length', 267),\n",
              " ('location', 267),\n",
              " ('writing', 267),\n",
              " ('types', 267),\n",
              " ('numpy', 267),\n",
              " ('servlet', 267),\n",
              " ('html5', 266),\n",
              " ('extract', 266),\n",
              " ('width', 265),\n",
              " ('stored', 265),\n",
              " ('close', 262),\n",
              " ('dataframe', 262),\n",
              " ('dialog', 262),\n",
              " ('certain', 262),\n",
              " ('help', 261),\n",
              " ('used', 261),\n",
              " ('range', 260),\n",
              " ('style', 259),\n",
              " ('names', 258),\n",
              " ('handling', 258),\n",
              " ('prevent', 258),\n",
              " ('automatically', 257),\n",
              " ('works', 257),\n",
              " ('resource', 256),\n",
              " ('magento', 256),\n",
              " ('every', 256),\n",
              " ('tomcat', 255),\n",
              " ('fails', 255),\n",
              " ('cast', 255),\n",
              " ('created', 254),\n",
              " ('pattern', 254),\n",
              " ('warning', 254),\n",
              " ('frame', 253),\n",
              " ('popup', 253),\n",
              " ('wrong', 252),\n",
              " ('contains', 251),\n",
              " ('validate', 251),\n",
              " ('displaying', 251),\n",
              " ('enum', 250),\n",
              " ('updating', 249),\n",
              " ('qt', 249),\n",
              " ('curl', 248),\n",
              " ('package', 248),\n",
              " ('stop', 247),\n",
              " ('must', 246),\n",
              " ('testing', 246),\n",
              " ('listview', 246),\n",
              " ('operator', 245),\n",
              " ('2d', 244),\n",
              " ('space', 244),\n",
              " ('put', 243),\n",
              " ('authentication', 243),\n",
              " ('context', 243),\n",
              " ('conversion', 242),\n",
              " ('keys', 240),\n",
              " ('auto', 238),\n",
              " ('structure', 238),\n",
              " ('callback', 237),\n",
              " ('main', 237),\n",
              " ('saving', 236),\n",
              " ('token', 236),\n",
              " ('end', 236),\n",
              " ('exist', 236),\n",
              " ('long', 235),\n",
              " ('tab', 235),\n",
              " ('db', 235),\n",
              " ('problems', 235),\n",
              " ('foreach', 234),\n",
              " ('existing', 234),\n",
              " ('dll', 232),\n",
              " ('always', 232),\n",
              " ('block', 232),\n",
              " ('sorting', 231),\n",
              " ('grid', 231),\n",
              " ('finding', 231),\n",
              " ('matplotlib', 230),\n",
              " ('remote', 230),\n",
              " ('sqlite', 229),\n",
              " ('buttons', 229),\n",
              " ('option', 229),\n",
              " ('bind', 228),\n",
              " ('determine', 228),\n",
              " ('modal', 227),\n",
              " ('firefox', 227),\n",
              " ('stream', 227),\n",
              " ('performance', 227),\n",
              " ('tags', 227),\n",
              " ('label', 226),\n",
              " ('plot', 226),\n",
              " ('mac', 225),\n",
              " ('join', 224),\n",
              " ('decimal', 224),\n",
              " ('combobox', 224),\n",
              " ('uncaught', 224),\n",
              " ('phone', 223),\n",
              " ('radio', 223),\n",
              " ('example', 223),\n",
              " ('chart', 222),\n",
              " ('compile', 221),\n",
              " ('unexpected', 221),\n",
              " ('attributes', 221),\n",
              " ('dom', 219),\n",
              " ('checking', 218),\n",
              " ('correctly', 218),\n",
              " ('right', 217),\n",
              " ('tables', 214),\n",
              " ('point', 214),\n",
              " ('installing', 214),\n",
              " ('lines', 214),\n",
              " ('base', 214),\n",
              " ('mouse', 213),\n",
              " ('float', 213),\n",
              " ('users', 213),\n",
              " ('basic', 211),\n",
              " ('support', 211),\n",
              " ('struct', 210),\n",
              " ('tree', 209),\n",
              " ('making', 208),\n",
              " ('unit', 208),\n",
              " ('unique', 207),\n",
              " ('scope', 207),\n",
              " ('threads', 206),\n",
              " ('correct', 205),\n",
              " ('hash', 205),\n",
              " ('duplicate', 205),\n",
              " ('catch', 205),\n",
              " ('next', 204),\n",
              " ('handler', 204),\n",
              " ('mean', 204),\n",
              " ('already', 204),\n",
              " ('wont', 203),\n",
              " ('even', 203),\n",
              " ('good', 203),\n",
              " ('edit', 202),\n",
              " ('task', 202),\n",
              " ('admin', 202),\n",
              " ('uitableview', 202),\n",
              " ('removing', 202),\n",
              " ('matrix', 201),\n",
              " ('namespace', 200),\n",
              " ('contents', 200),\n",
              " ('pages', 200),\n",
              " ('valid', 200),\n",
              " ('graph', 199),\n",
              " ('dates', 199),\n",
              " ('lists', 198),\n",
              " ('sdk', 197),\n",
              " ('log', 197),\n",
              " ('encoding', 197),\n",
              " ('const', 197),\n",
              " ('debug', 197),\n",
              " ('objective', 196),\n",
              " ('case', 196),\n",
              " ('calculate', 196),\n",
              " ('changes', 196),\n",
              " ('site', 196),\n",
              " ('programming', 195),\n",
              " ('configuration', 195),\n",
              " ('storing', 195),\n",
              " ('side', 195),\n",
              " ('active', 195),\n",
              " ('sum', 194),\n",
              " ('full', 194),\n",
              " ('limit', 194),\n",
              " ('keep', 193),\n",
              " ('jpa', 193),\n",
              " ('top', 192),\n",
              " ('listbox', 192),\n",
              " ('implementation', 190),\n",
              " ('animation', 190),\n",
              " ('unicode', 189),\n",
              " ('append', 188),\n",
              " ('override', 188),\n",
              " ('printing', 187),\n",
              " ('mongodb', 187),\n",
              " ('twitter', 186),\n",
              " ('allow', 186),\n",
              " ('record', 185),\n",
              " ('winforms', 185),\n",
              " ('part', 185),\n",
              " ('resize', 184),\n",
              " ('utf8', 184),\n",
              " ('core', 184),\n",
              " ('lambda', 183),\n",
              " ('loaded', 183),\n",
              " ('mail', 182),\n",
              " ('ip', 182),\n",
              " ('security', 182),\n",
              " ('controls', 182),\n",
              " ('play', 181),\n",
              " ('times', 181),\n",
              " ('pdo', 180),\n",
              " ('layout', 178),\n",
              " ('selection', 177),\n",
              " ('async', 176),\n",
              " ('fatal', 176),\n",
              " ('game', 176),\n",
              " ('records', 175),\n",
              " ('bean', 175),\n",
              " ('language', 175),\n",
              " ('boolean', 174),\n",
              " ('webdriver', 174),\n",
              " ('cookie', 174),\n",
              " ('draw', 173),\n",
              " ('constant', 173),\n",
              " ('switch', 173),\n",
              " ('outside', 173),\n",
              " ('cakephp', 172),\n",
              " ('domain', 172),\n",
              " ('gui', 172),\n",
              " ('force', 172),\n",
              " ('unknown', 171),\n",
              " ('true', 171),\n",
              " ('inserting', 171),\n",
              " ('assign', 169),\n",
              " ('wait', 169),\n",
              " ('port', 168),\n",
              " ('false', 168),\n",
              " ('mode', 168),\n",
              " ('20', 168),\n",
              " ('slow', 168),\n",
              " ('named', 168),\n",
              " ('state', 167),\n",
              " ('focus', 167),\n",
              " ('oracle', 167),\n",
              " ('issues', 167),\n",
              " ('requests', 167),\n",
              " ('mapping', 167),\n",
              " ('netbeans', 167),\n",
              " ('available', 167),\n",
              " ('condition', 167),\n",
              " ('multidimensional', 167),\n",
              " ('enable', 166),\n",
              " ('generated', 166),\n",
              " ('ubuntu', 165),\n",
              " ('assembly', 165),\n",
              " ('jdbc', 164),\n",
              " ('uploading', 164),\n",
              " ('clicked', 164),\n",
              " ('device', 164),\n",
              " ('gem', 163),\n",
              " ('populate', 163),\n",
              " ('yii', 163),\n",
              " ('specified', 162),\n",
              " ('swing', 162),\n",
              " ('soap', 162),\n",
              " ('required', 161),\n",
              " ('special', 161),\n",
              " ('engine', 161),\n",
              " ('initialize', 160),\n",
              " ('checked', 159),\n",
              " ('exceptions', 159),\n",
              " ('2010', 159),\n",
              " ('executing', 159),\n",
              " ('know', 159),\n",
              " ('network', 158),\n",
              " ('bad', 158),\n",
              " ('native', 158),\n",
              " ('avoid', 157),\n",
              " ('tkinter', 157),\n",
              " ('javafx', 157),\n",
              " ('try', 157),\n",
              " ('design', 157),\n",
              " ('6', 157),\n",
              " ('timeout', 156),\n",
              " ('month', 156),\n",
              " ('export', 156),\n",
              " ('webservice', 156),\n",
              " ('efficient', 155),\n",
              " ('trigger', 155),\n",
              " ('n', 155),\n",
              " ('want', 155),\n",
              " ('404', 155),\n",
              " ('heroku', 155),\n",
              " ('move', 155),\n",
              " ('question', 155),\n",
              " ('os', 154),\n",
              " ('component', 154),\n",
              " ('timer', 154),\n",
              " ('dont', 154),\n",
              " ('iterate', 154),\n",
              " ('stack', 154),\n",
              " ('10', 153),\n",
              " ('zend', 152),\n",
              " ('words', 152),\n",
              " ('body', 152),\n",
              " ('textarea', 151),\n",
              " ('views', 151),\n",
              " ('implementing', 151),\n",
              " ('compiler', 150),\n",
              " ('clicking', 150),\n",
              " ('linked', 150),\n",
              " ('symbol', 149),\n",
              " ('clear', 148),\n",
              " ('render', 148),\n",
              " ('flask', 148),\n",
              " ('root', 148),\n",
              " ('navigation', 148),\n",
              " ('symfony2', 147),\n",
              " ('second', 147),\n",
              " ('define', 147),\n",
              " ('datagrid', 147),\n",
              " ('pointers', 146),\n",
              " ('fill', 146),\n",
              " ('ssl', 145),\n",
              " ('inheritance', 145),\n",
              " ('private', 145),\n",
              " ('route', 145),\n",
              " ('procedure', 145),\n",
              " ('particular', 145),\n",
              " ('rspec', 144),\n",
              " ('information', 144),\n",
              " ('left', 144),\n",
              " ('scrolling', 144),\n",
              " ('declaration', 144),\n",
              " ('status', 143),\n",
              " ('behind', 143),\n",
              " ('bytes', 143),\n",
              " ('fetch', 142),\n",
              " ('fix', 142),\n",
              " ('services', 142),\n",
              " ('calendar', 142),\n",
              " ('reflection', 142),\n",
              " ('push', 142),\n",
              " ('spaces', 142),\n",
              " ('algorithm', 141),\n",
              " ('xpath', 141),\n",
              " ('alert', 141),\n",
              " ('apply', 140),\n",
              " ('cache', 140),\n",
              " ('integers', 140),\n",
              " ('youtube', 140),\n",
              " ('development', 139),\n",
              " ('calls', 139),\n",
              " ('dependency', 139),\n",
              " ('options', 138),\n",
              " ('maximum', 138),\n",
              " ('hex', 138),\n",
              " ('max', 138),\n",
              " ('https', 138),\n",
              " ('usage', 137),\n",
              " ('progress', 137),\n",
              " ('target', 137),\n",
              " ('previous', 137),\n",
              " ('environment', 137),\n",
              " ('models', 136),\n",
              " ('merge', 136),\n",
              " ('title', 136),\n",
              " ('practice', 136),\n",
              " ('internet', 136),\n",
              " ('comparing', 136),\n",
              " ('changed', 135),\n",
              " ('headers', 135),\n",
              " ('notification', 133),\n",
              " ('driver', 133),\n",
              " ('libraries', 133),\n",
              " ('boost', 133),\n",
              " ('matching', 132),\n",
              " ('apps', 132),\n",
              " ('statements', 132),\n",
              " ('panel', 132),\n",
              " ('symfony', 132),\n",
              " ('shared', 132),\n",
              " ('font', 132),\n",
              " ('opengl', 132),\n",
              " ('tests', 132),\n",
              " ('processing', 132),\n",
              " ('comma', 131),\n",
              " ('public', 131),\n",
              " ('xaml', 131),\n",
              " ('installed', 131),\n",
              " ('datepicker', 131),\n",
              " ('separate', 130),\n",
              " ('standard', 130),\n",
              " ('icon', 130),\n",
              " ('resources', 130),\n",
              " ('directive', 129),\n",
              " ('report', 129),\n",
              " ('abstract', 129),\n",
              " ('links', 129),\n",
              " ('htaccess', 129),\n",
              " ('better', 128),\n",
              " ('hidden', 128),\n",
              " ('container', 128),\n",
              " ('serialize', 128),\n",
              " ('debugging', 128),\n",
              " ('logging', 128),\n",
              " ('would', 128),\n",
              " ('asp', 128),\n",
              " ('resolve', 128),\n",
              " ('autocomplete', 127),\n",
              " ('junit', 127),\n",
              " ('configure', 127),\n",
              " ('ggplot2', 127),\n",
              " ('react', 127),\n",
              " ('see', 127),\n",
              " ('hashmap', 127),\n",
              " ('partial', 126),\n",
              " ('alternative', 126),\n",
              " ('queries', 126),\n",
              " ('selecting', 125),\n",
              " ('visible', 125),\n",
              " ('echo', 125),\n",
              " ('messages', 125),\n",
              " ('returned', 125),\n",
              " ('throws', 125),\n",
              " ('devise', 124),\n",
              " ('something', 124),\n",
              " ('keyboard', 123),\n",
              " ('proxy', 123),\n",
              " ('svg', 123),\n",
              " ('checkboxes', 123),\n",
              " ('declare', 123),\n",
              " ('generating', 123),\n",
              " ('denied', 122),\n",
              " ('take', 122),\n",
              " ('jtable', 122),\n",
              " ('whether', 122),\n",
              " ('coordinates', 122),\n",
              " ('escape', 122),\n",
              " ('operation', 121),\n",
              " ('quotes', 121),\n",
              " ('causes', 121),\n",
              " ('virtual', 121),\n",
              " ('formatting', 121),\n",
              " ('extjs', 120),\n",
              " ('day', 120),\n",
              " ('drag', 120),\n",
              " ('jsf', 120),\n",
              " ('reload', 120),\n",
              " ('drawing', 120),\n",
              " ('setup', 120),\n",
              " ('contain', 120),\n",
              " ('shell', 119),\n",
              " ('product', 119),\n",
              " ('dataset', 119),\n",
              " ('intellij', 118),\n",
              " ('machine', 118),\n",
              " ('delegate', 118),\n",
              " ('webpage', 118),\n",
              " ('entities', 118),\n",
              " ('rendering', 118),\n",
              " ('queue', 118),\n",
              " ('strange', 118),\n",
              " ('phonegap', 118),\n",
              " ('containing', 118),\n",
              " ('cells', 118),\n",
              " ('applications', 118),\n",
              " ('twice', 118),\n",
              " ('dropdownlist', 118),\n",
              " ('connecting', 117),\n",
              " ('inline', 117),\n",
              " ('per', 117),\n",
              " ('execution', 117),\n",
              " ('gcc', 117),\n",
              " ('blank', 116),\n",
              " ('relationship', 116),\n",
              " ('uiview', 116),\n",
              " ('level', 116),\n",
              " ('opening', 116),\n",
              " ('ms', 116),\n",
              " ('conditional', 116),\n",
              " ('razor', 115),\n",
              " ('serialization', 115),\n",
              " ('gives', 115),\n",
              " ('widget', 115),\n",
              " ('initialization', 115),\n",
              " ('relative', 115),\n",
              " ('modify', 115),\n",
              " ('safe', 115),\n",
              " ('etc', 115),\n",
              " ('internal', 115),\n",
              " ('nodes', 114),\n",
              " ('jqgrid', 114),\n",
              " ('definition', 114),\n",
              " ('timestamp', 114),\n",
              " ('capture', 114),\n",
              " ('batch', 113),\n",
              " ('importing', 113),\n",
              " ('building', 113),\n",
              " ('retrieving', 112),\n",
              " ('expressions', 112),\n",
              " ('compiling', 112),\n",
              " ('else', 112),\n",
              " ('allowed', 112),\n",
              " ('added', 111),\n",
              " ('still', 111),\n",
              " ('numeric', 111),\n",
              " ('tcp', 111),\n",
              " ('year', 110),\n",
              " ('host', 110),\n",
              " ('sqlalchemy', 110),\n",
              " ('seconds', 110),\n",
              " ('doctrine', 110),\n",
              " ('boot', 109),\n",
              " ('highcharts', 109),\n",
              " ('cookies', 109),\n",
              " ('selector', 109),\n",
              " ('href', 108),\n",
              " ('nsstring', 108),\n",
              " ('foreign', 108),\n",
              " ('jframe', 107),\n",
              " ('jackson', 107),\n",
              " ('starting', 107),\n",
              " ('config', 107),\n",
              " ('annotation', 107),\n",
              " ('embedded', 107),\n",
              " ('fast', 107),\n",
              " ('reset', 106),\n",
              " ('protocol', 106),\n",
              " ('touch', 106),\n",
              " ('injection', 106),\n",
              " ('section', 106),\n",
              " ('firing', 106),\n",
              " ('tabs', 105),\n",
              " ('jaxb', 105),\n",
              " ('webbrowser', 105),\n",
              " ('ascii', 105),\n",
              " ('points', 105),\n",
              " ('closing', 105),\n",
              " ('overriding', 104),\n",
              " ('transaction', 104),\n",
              " ('postgresql', 104),\n",
              " ('trouble', 104),\n",
              " ('hover', 104),\n",
              " ('sharepoint', 104),\n",
              " ('passed', 104),\n",
              " ('labels', 104),\n",
              " ('cursor', 104),\n",
              " ('able', 103),\n",
              " ('gwt', 103),\n",
              " ('recursive', 103),\n",
              " ('specify', 103),\n",
              " ('sequence', 103),\n",
              " ('localhost', 103),\n",
              " ('explorer', 103),\n",
              " ('urls', 103),\n",
              " ('asynchronous', 103),\n",
              " ('assignment', 103),\n",
              " ('replacing', 103),\n",
              " ('deploy', 102),\n",
              " ('fixed', 102),\n",
              " ('webview', 102),\n",
              " ('giving', 102),\n",
              " ('days', 102),\n",
              " ('templates', 102),\n",
              " ('exit', 102),\n",
              " ('fastest', 102),\n",
              " ('base64', 102),\n",
              " ('anchor', 102),\n",
              " ('restful', 102),\n",
              " ('deleting', 102),\n",
              " ('toggle', 102),\n",
              " ('axis', 101),\n",
              " ('nil', 101),\n",
              " ('go', 101),\n",
              " ('v3', 101),\n",
              " ('enter', 100),\n",
              " ('osx', 100),\n",
              " ('proper', 100),\n",
              " ('vb', 100),\n",
              " ('500', 100),\n",
              " ('moving', 100),\n",
              " ('digits', 100),\n",
              " ('nhibernate', 100),\n",
              " ('casting', 99),\n",
              " ('ignore', 99),\n",
              " ('stl', 99),\n",
              " ('faster', 99),\n",
              " ('activerecord', 99),\n",
              " ('permission', 99),\n",
              " ('settings', 99),\n",
              " ('pagination', 98),\n",
              " ('mysqli', 98),\n",
              " ('border', 98),\n",
              " ('lock', 98),\n",
              " ('including', 98),\n",
              " ('loops', 98),\n",
              " ('serial', 97),\n",
              " ('declared', 97),\n",
              " ('incorrect', 97),\n",
              " ('caching', 97),\n",
              " ('activity', 97),\n",
              " ('username', 97),\n",
              " ('real', 97),\n",
              " ('s3', 97),\n",
              " ('effect', 97),\n",
              " ('sent', 97),\n",
              " ('comparison', 96),\n",
              " ('complex', 96),\n",
              " ('complete', 96),\n",
              " ('safari', 96),\n",
              " ('invoke', 96),\n",
              " ('across', 96),\n",
              " ('uitableviewcell', 96),\n",
              " ('txt', 95),\n",
              " ('void', 95),\n",
              " ('audio', 95),\n",
              " ...]"
            ]
          },
          "metadata": {
            "tags": []
          },
          "execution_count": 75
        }
      ]
    },
    {
      "cell_type": "code",
      "metadata": {
        "id": "MwTuvuidn_NH"
      },
      "source": [
        "WORDS_TO_INDEX = {p[0]:i for i,p in enumerate(most_common_words[:5])}\n",
        "\n"
      ],
      "execution_count": 76,
      "outputs": []
    },
    {
      "cell_type": "code",
      "metadata": {
        "id": "N4eYsn5Xn_Vd",
        "colab": {
          "base_uri": "https://localhost:8080/"
        },
        "outputId": "cd7b6cc5-327f-41bb-dd2a-9d479f90a6ff"
      },
      "source": [
        "print(WORDS_TO_INDEX)\n"
      ],
      "execution_count": 77,
      "outputs": [
        {
          "output_type": "stream",
          "text": [
            "{'using': 0, 'php': 1, 'java': 2, 'file': 3, 'javascript': 4}\n"
          ],
          "name": "stdout"
        }
      ]
    },
    {
      "cell_type": "code",
      "metadata": {
        "id": "iEnFHCbMWmRp"
      },
      "source": [
        "DICT_SIZE = 5000\n",
        "WORDS_TO_INDEX = {p[0]:i for i,p in enumerate(most_common_words[:DICT_SIZE])}\n",
        "INDEX_TO_WORDS = {WORDS_TO_INDEX[k]:k for k in WORDS_TO_INDEX}\n",
        "ALL_WORDS = WORDS_TO_INDEX.keys()\n",
        "\n",
        "def my_bag_of_words(text, words_to_index, dict_size):\n",
        "    \"\"\"\n",
        "        text: a string\n",
        "        dict_size: size of the dictionary\n",
        "        \n",
        "        return a vector which is a bag-of-words representation of 'text'\n",
        "    \"\"\"\n",
        "    result_vector = np.zeros(dict_size)\n",
        "    ######################################\n",
        "    ######### YOUR CODE HERE #############\n",
        "    ######################################\n",
        "    for word in text.split():\n",
        "      if word in words_to_index :\n",
        "        result_vector[words_to_index[word]] +=1\n",
        "    return result_vector"
      ],
      "execution_count": 78,
      "outputs": []
    },
    {
      "cell_type": "code",
      "metadata": {
        "id": "-kzxI40-WmWp"
      },
      "source": [
        "def test_my_bag_of_words():\n",
        "    words_to_index = {'hi': 0, 'you': 1, 'me': 2, 'are': 3}\n",
        "    examples = ['hi how are you']\n",
        "    answers = [[1, 1, 0, 1]]\n",
        "    for ex, ans in zip(examples, answers):\n",
        "        if (my_bag_of_words(ex, words_to_index, 4) != ans).any():\n",
        "            return \"Wrong answer for the case: '%s'\" % ex\n",
        "    return 'Basic tests are passed.'"
      ],
      "execution_count": 79,
      "outputs": []
    },
    {
      "cell_type": "code",
      "metadata": {
        "id": "NDDn6vH3WmZV",
        "colab": {
          "base_uri": "https://localhost:8080/"
        },
        "outputId": "4e4dde37-d9a7-489e-b9d0-9aae04560ac0"
      },
      "source": [
        "print(test_my_bag_of_words())\n"
      ],
      "execution_count": 80,
      "outputs": [
        {
          "output_type": "stream",
          "text": [
            "Basic tests are passed.\n"
          ],
          "name": "stdout"
        }
      ]
    },
    {
      "cell_type": "code",
      "metadata": {
        "id": "02I4SwYxWmcG"
      },
      "source": [
        "from scipy import sparse as sp_sparse\n"
      ],
      "execution_count": 81,
      "outputs": []
    },
    {
      "cell_type": "code",
      "metadata": {
        "id": "EINFZvN5onxK",
        "colab": {
          "base_uri": "https://localhost:8080/"
        },
        "outputId": "c365fd01-059a-418f-dcb4-243757f53793"
      },
      "source": [
        "X_train_mybag = sp_sparse.vstack([sp_sparse.csr_matrix(my_bag_of_words(text, WORDS_TO_INDEX, DICT_SIZE)) for text in X_train])\n",
        "X_val_mybag = sp_sparse.vstack([sp_sparse.csr_matrix(my_bag_of_words(text, WORDS_TO_INDEX, DICT_SIZE)) for text in X_val])\n",
        "X_test_mybag = sp_sparse.vstack([sp_sparse.csr_matrix(my_bag_of_words(text, WORDS_TO_INDEX, DICT_SIZE)) for text in X_test])\n",
        "print('X_train shape ', X_train_mybag.shape)\n",
        "print('X_val shape ', X_val_mybag.shape)\n",
        "print('X_test shape ', X_test_mybag.shape)"
      ],
      "execution_count": 82,
      "outputs": [
        {
          "output_type": "stream",
          "text": [
            "X_train shape  (100000, 5000)\n",
            "X_val shape  (30000, 5000)\n",
            "X_test shape  (20000, 5000)\n"
          ],
          "name": "stdout"
        }
      ]
    },
    {
      "cell_type": "code",
      "metadata": {
        "id": "ETQ4x2QKon0I",
        "colab": {
          "base_uri": "https://localhost:8080/"
        },
        "outputId": "64608672-1dab-41aa-ccd9-15a87f809de8"
      },
      "source": [
        "row = X_train_mybag[10].toarray()[0]\n",
        "non_zero_elements_count = np.count_nonzero(row)\n",
        "\n",
        "grader.submit_tag('BagOfWords', str(non_zero_elements_count))"
      ],
      "execution_count": 83,
      "outputs": [
        {
          "output_type": "stream",
          "text": [
            "Current answer for task BagOfWords is:\n",
            " 7...\n"
          ],
          "name": "stdout"
        }
      ]
    },
    {
      "cell_type": "code",
      "metadata": {
        "id": "UpKPhY4eon3K"
      },
      "source": [
        "from sklearn.feature_extraction.text import TfidfVectorizer\n"
      ],
      "execution_count": 84,
      "outputs": []
    },
    {
      "cell_type": "code",
      "metadata": {
        "id": "B2bBJz8Con5y"
      },
      "source": [
        "def tfidf_features(X_train, X_val, X_test):\n",
        "    \"\"\"\n",
        "        X_train, X_val, X_test — samples        \n",
        "        return TF-IDF vectorized representation of each sample and vocabulary\n",
        "    \"\"\"\n",
        "    # Create TF-IDF vectorizer with a proper parameters choice\n",
        "    # Fit the vectorizer on the train set\n",
        "    # Transform the train, test, and val sets and return the result\n",
        "    \n",
        "    \n",
        "    tfidf_vectorizer = TfidfVectorizer(token_pattern='(\\S+)', min_df=5, max_df=0.9, ngram_range=(1,2))\n",
        "    \n",
        "    ######################################\n",
        "    ######### YOUR CODE HERE #############\n",
        "    ######################################\n",
        "    \n",
        "    tfidf_vectorizer.fit(X_train)\n",
        "    X_train = tfidf_vectorizer.transform(X_train)\n",
        "    X_val = tfidf_vectorizer.transform(X_val)\n",
        "    X_test = tfidf_vectorizer.transform(X_test)\n",
        "    \n",
        "    return X_train, X_val, X_test, tfidf_vectorizer.vocabulary_"
      ],
      "execution_count": 85,
      "outputs": []
    },
    {
      "cell_type": "code",
      "metadata": {
        "id": "oknncwLQon8o"
      },
      "source": [
        "X_train_tfidf, X_val_tfidf, X_test_tfidf, tfidf_vocab = tfidf_features(X_train, X_val, X_test)\n",
        "tfidf_reversed_vocab = {i:word for word,i in tfidf_vocab.items()}"
      ],
      "execution_count": 86,
      "outputs": []
    },
    {
      "cell_type": "code",
      "metadata": {
        "id": "Su5gHID3ooBD",
        "colab": {
          "base_uri": "https://localhost:8080/"
        },
        "outputId": "994505d3-af1e-4eac-de33-5fa3311b3b48"
      },
      "source": [
        "print('c++' in tfidf_vocab)\n",
        "print('c#' in tfidf_vocab)"
      ],
      "execution_count": 87,
      "outputs": [
        {
          "output_type": "stream",
          "text": [
            "True\n",
            "True\n"
          ],
          "name": "stdout"
        }
      ]
    },
    {
      "cell_type": "code",
      "metadata": {
        "id": "CIcuD4n7ooD1",
        "colab": {
          "base_uri": "https://localhost:8080/"
        },
        "outputId": "690440af-82bd-4098-fb26-295564cd090c"
      },
      "source": [
        "print('c++' in tfidf_vocab)\n",
        "print('c#' in tfidf_vocab)"
      ],
      "execution_count": 88,
      "outputs": [
        {
          "output_type": "stream",
          "text": [
            "True\n",
            "True\n"
          ],
          "name": "stdout"
        }
      ]
    },
    {
      "cell_type": "code",
      "metadata": {
        "id": "YJAhHtY-ooG8"
      },
      "source": [
        "from sklearn.preprocessing import MultiLabelBinarizer\n"
      ],
      "execution_count": 89,
      "outputs": []
    },
    {
      "cell_type": "code",
      "metadata": {
        "id": "tiFH4coFooLv"
      },
      "source": [
        "mlb = MultiLabelBinarizer(classes=sorted(tags_counts.keys()))\n",
        "y_train = mlb.fit_transform(y_train)\n",
        "y_val = mlb.fit_transform(y_val)"
      ],
      "execution_count": 90,
      "outputs": []
    },
    {
      "cell_type": "code",
      "metadata": {
        "id": "cDAaeuV_ps3v"
      },
      "source": [
        "from sklearn.multiclass import OneVsRestClassifier\n",
        "from sklearn.linear_model import LogisticRegression, RidgeClassifier"
      ],
      "execution_count": 91,
      "outputs": []
    },
    {
      "cell_type": "code",
      "metadata": {
        "id": "9c_hJeMkpxW2"
      },
      "source": [
        "def train_classifier(X_train, y_train, C = 1.0, penalty = 'l2'):\n",
        "    \"\"\"\n",
        "      X_train, y_train — training data\n",
        "      \n",
        "      return: trained classifier\n",
        "    \"\"\"\n",
        "    \n",
        "    # Create and fit LogisticRegression wraped into OneVsRestClassifier.\n",
        "\n",
        "    ######################################\n",
        "    ######### YOUR CODE HERE #############\n",
        "    ######################################\n",
        "    lr = LogisticRegression(C=C, penalty=penalty,max_iter=200)\n",
        "    oneVsRest = OneVsRestClassifier(lr)\n",
        "    oneVsRest.fit(X_train, y_train)\n",
        "    \n",
        "    return oneVsRest"
      ],
      "execution_count": 92,
      "outputs": []
    },
    {
      "cell_type": "code",
      "metadata": {
        "id": "hqGClfMIp1gx"
      },
      "source": [
        "classifier_mybag = train_classifier(X_train_mybag, y_train)\n",
        "classifier_tfidf = train_classifier(X_train_tfidf, y_train)"
      ],
      "execution_count": 93,
      "outputs": []
    },
    {
      "cell_type": "code",
      "metadata": {
        "id": "0ntvLNNNp8y1"
      },
      "source": [
        "y_val_predicted_labels_mybag = classifier_mybag.predict(X_val_mybag)\n",
        "y_val_predicted_scores_mybag = classifier_mybag.decision_function(X_val_mybag)\n",
        "\n",
        "y_val_predicted_labels_tfidf = classifier_tfidf.predict(X_val_tfidf)\n",
        "y_val_predicted_scores_tfidf = classifier_tfidf.decision_function(X_val_tfidf)"
      ],
      "execution_count": 94,
      "outputs": []
    },
    {
      "cell_type": "code",
      "metadata": {
        "id": "-oIVmj-oqJmn",
        "colab": {
          "base_uri": "https://localhost:8080/"
        },
        "outputId": "8a36c20a-d51d-420e-8f21-18e4b657d1ac"
      },
      "source": [
        "y_val_pred_inversed = mlb.inverse_transform(y_val_predicted_labels_tfidf)\n",
        "y_val_inversed = mlb.inverse_transform(y_val)\n",
        "for i in range(3):\n",
        "    print('Title:\\t{}\\nTrue labels:\\t{}\\nPredicted labels:\\t{}\\n\\n'.format(\n",
        "        X_val[i],\n",
        "        ','.join(y_val_inversed[i]),\n",
        "        ','.join(y_val_pred_inversed[i])\n",
        "    ))"
      ],
      "execution_count": 95,
      "outputs": [
        {
          "output_type": "stream",
          "text": [
            "Title:\todbc_exec always fail\n",
            "True labels:\tphp,sql\n",
            "Predicted labels:\t\n",
            "\n",
            "\n",
            "Title:\taccess base classes variable within child class\n",
            "True labels:\tjavascript\n",
            "Predicted labels:\t\n",
            "\n",
            "\n",
            "Title:\tcontenttype application json required rails\n",
            "True labels:\truby,ruby-on-rails\n",
            "Predicted labels:\tjson,ruby-on-rails\n",
            "\n",
            "\n"
          ],
          "name": "stdout"
        }
      ]
    },
    {
      "cell_type": "code",
      "metadata": {
        "id": "Pe7n5UuJqJp2"
      },
      "source": [
        "from sklearn.metrics import accuracy_score\n",
        "from sklearn.metrics import f1_score\n",
        "from sklearn.metrics import roc_auc_score \n",
        "from sklearn.metrics import average_precision_score\n",
        "from sklearn.metrics import recall_score"
      ],
      "execution_count": 96,
      "outputs": []
    },
    {
      "cell_type": "code",
      "metadata": {
        "id": "BSpaJzPsqJt_"
      },
      "source": [
        "def print_evaluation_scores(y_val, predicted):\n",
        "    \n",
        "    ######################################\n",
        "    ######### YOUR CODE HERE #############\n",
        "    ######################################\n",
        "    #print('accuracy')\n",
        "    print(f1_score(y_val, predicted, average = 'weighted'))"
      ],
      "execution_count": 97,
      "outputs": []
    },
    {
      "cell_type": "code",
      "metadata": {
        "id": "QIZxJc4mqJyl",
        "colab": {
          "base_uri": "https://localhost:8080/"
        },
        "outputId": "2919d175-390e-4f2d-95f7-2c609ce5371c"
      },
      "source": [
        "print('Bag-of-words')\n",
        "print_evaluation_scores(y_val, y_val_predicted_labels_mybag)\n",
        "print('Tfidf')\n",
        "print_evaluation_scores(y_val, y_val_predicted_labels_tfidf)"
      ],
      "execution_count": 98,
      "outputs": [
        {
          "output_type": "stream",
          "text": [
            "Bag-of-words\n",
            "0.6486667031464047\n",
            "Tfidf\n",
            "0.6142558095892964\n"
          ],
          "name": "stdout"
        }
      ]
    },
    {
      "cell_type": "code",
      "metadata": {
        "id": "Ivy0eP3mqJ2U"
      },
      "source": [
        "from metrics import roc_auc\n",
        "%matplotlib inline"
      ],
      "execution_count": 99,
      "outputs": []
    },
    {
      "cell_type": "code",
      "metadata": {
        "id": "7uIjfvsVqJ7f",
        "colab": {
          "base_uri": "https://localhost:8080/",
          "height": 295
        },
        "outputId": "b9840fda-cde1-4e01-be97-654bc6e5811a"
      },
      "source": [
        "n_classes = len(tags_counts)\n",
        "roc_auc(y_val, y_val_predicted_scores_mybag, n_classes)"
      ],
      "execution_count": 100,
      "outputs": [
        {
          "output_type": "display_data",
          "data": {
            "image/png": "[encoded data removed]",
            "text/plain": [
              "<Figure size 432x288 with 1 Axes>"
            ]
          },
          "metadata": {
            "tags": [],
            "needs_background": "light"
          }
        }
      ]
    },
    {
      "cell_type": "code",
      "metadata": {
        "id": "Kc-xYi2UqJ-a",
        "colab": {
          "base_uri": "https://localhost:8080/",
          "height": 295
        },
        "outputId": "f0c1f76b-bcc0-4865-9a1a-83b937fa06c6"
      },
      "source": [
        "n_classes = len(tags_counts)\n",
        "roc_auc(y_val, y_val_predicted_scores_tfidf, n_classes)"
      ],
      "execution_count": 101,
      "outputs": [
        {
          "output_type": "display_data",
          "data": {
            "image/png": "[encoded data removed]",
            "text/plain": [
              "<Figure size 432x288 with 1 Axes>"
            ]
          },
          "metadata": {
            "tags": [],
            "needs_background": "light"
          }
        }
      ]
    },
    {
      "cell_type": "code",
      "metadata": {
        "id": "HgMD0sNKqKD_",
        "colab": {
          "base_uri": "https://localhost:8080/",
          "height": 295
        },
        "outputId": "7bb90bf6-1334-4134-9b5e-bb4fb8c538a1"
      },
      "source": [
        "n_classes = len(tags_counts)\n",
        "roc_auc(y_val, y_val_predicted_scores_tfidf, n_classes)"
      ],
      "execution_count": 102,
      "outputs": [
        {
          "output_type": "display_data",
          "data": {
            "image/png": "[encoded data removed]",
            "text/plain": [
              "<Figure size 432x288 with 1 Axes>"
            ]
          },
          "metadata": {
            "tags": [],
            "needs_background": "light"
          }
        }
      ]
    },
    {
      "cell_type": "code",
      "metadata": {
        "id": "HSq7AxZ-qJ4_"
      },
      "source": [
        "classifier_tfidf = train_classifier(X_train_tfidf, y_train, C=1.0, penalty='l2')\n",
        "y_test_predicted_labels_tfidf = classifier_tfidf.predict(X_test_tfidf)"
      ],
      "execution_count": 103,
      "outputs": []
    },
    {
      "cell_type": "code",
      "metadata": {
        "id": "xbDkrPNWqJwX",
        "colab": {
          "base_uri": "https://localhost:8080/"
        },
        "outputId": "b7d355bf-79c1-4b44-ab2b-22f626e62bee"
      },
      "source": [
        "test_predictions = y_test_predicted_labels_tfidf######### YOUR CODE HERE #############\n",
        "test_pred_inversed = mlb.inverse_transform(test_predictions)\n",
        "\n",
        "test_predictions_for_submission = '\\n'.join('%i\\t%s' % (i, ','.join(row)) for i, row in enumerate(test_pred_inversed))\n",
        "grader.submit_tag('MultilabelClassification', test_predictions_for_submission)"
      ],
      "execution_count": 104,
      "outputs": [
        {
          "output_type": "stream",
          "text": [
            "Current answer for task MultilabelClassification is:\n",
            " 0\tphp\n",
            "1\tjavascript,jquery\n",
            "2\t\n",
            "3\tjavascript,jquery\n",
            "4\tandroid,java\n",
            "5\tphp,xml\n",
            "6\tjson\n",
            "7\tjava\n",
            "8\tpython\n",
            "9\th...\n"
          ],
          "name": "stdout"
        }
      ]
    },
    {
      "cell_type": "code",
      "metadata": {
        "id": "Mx4DHaHQsmHR"
      },
      "source": [
        "def print_words_for_tag(classifier, tag, tags_classes, index_to_words, all_words):\n",
        "    \"\"\"\n",
        "        classifier: trained classifier\n",
        "        tag: particular tag\n",
        "        tags_classes: a list of classes names from MultiLabelBinarizer\n",
        "        index_to_words: index_to_words transformation\n",
        "        all_words: all words in the dictionary\n",
        "        \n",
        "        return nothing, just print top 5 positive and top 5 negative words for current tag\n",
        "    \"\"\"\n",
        "    print('Tag:\\t{}'.format(tag))\n",
        "    \n",
        "    # Extract an estimator from the classifier for the given tag.\n",
        "    # Extract feature coefficients from the estimator. \n",
        "    \n",
        "    ######################################\n",
        "    ######### YOUR CODE HERE #############\n",
        "    ######################################\n",
        "    idx = tags_classes.index(tag)\n",
        "    coef=classifier_tfidf.coef_[idx]\n",
        "    cd = {i:coef[i] for i in range(len(coef))}\n",
        "    scd=sorted(cd.items(), key=lambda x: x[1], reverse=True)\n",
        "    \n",
        "    top_positive_words = [index_to_words[k[0]] for k in scd[:5]] # top-5 words sorted by the coefficiens.\n",
        "    top_negative_words = [index_to_words[k[0]] for k in scd[-5:]] # bottom-5 words  sorted by the coefficients.\n",
        "    print('Top positive words:\\t{}'.format(', '.join(top_positive_words)))\n",
        "    print('Top negative words:\\t{}\\n'.format(', '.join(top_negative_words)))"
      ],
      "execution_count": 105,
      "outputs": []
    },
    {
      "cell_type": "code",
      "metadata": {
        "id": "gIquPG1nsmKO",
        "colab": {
          "base_uri": "https://localhost:8080/"
        },
        "outputId": "3e7a80a0-25c9-4bdb-d380-8ae5a59a7292"
      },
      "source": [
        "print_words_for_tag(classifier_tfidf, 'c', mlb.classes, tfidf_reversed_vocab, ALL_WORDS)\n",
        "print_words_for_tag(classifier_tfidf, 'c++', mlb.classes, tfidf_reversed_vocab, ALL_WORDS)\n",
        "print_words_for_tag(classifier_tfidf, 'linux', mlb.classes, tfidf_reversed_vocab, ALL_WORDS)"
      ],
      "execution_count": 106,
      "outputs": [
        {
          "output_type": "stream",
          "text": [
            "Tag:\tc\n",
            "Top positive words:\tc, malloc, scanf, printf, gcc\n",
            "Top negative words:\tc#, javascript, python, php, java\n",
            "\n",
            "Tag:\tc++\n",
            "Top positive words:\tc++, qt, boost, mfc, opencv\n",
            "Top negative words:\tc#, javascript, python, php, java\n",
            "\n",
            "Tag:\tlinux\n",
            "Top positive words:\tlinux, ubuntu, c, address, signal\n",
            "Top negative words:\tmethod, array, jquery, c#, javascript\n",
            "\n"
          ],
          "name": "stdout"
        }
      ]
    },
    {
      "cell_type": "code",
      "metadata": {
        "id": "7N4SFK12smPM",
        "colab": {
          "base_uri": "https://localhost:8080/"
        },
        "outputId": "02a99b67-c943-4c39-9644-4db4f39f9b98"
      },
      "source": [
        "grader.status()\n"
      ],
      "execution_count": 107,
      "outputs": [
        {
          "output_type": "stream",
          "text": [
            "You want to submit these parts:\n",
            "Task TextPrepare:\n",
            " sqlite php readonly\n",
            "creating multiple textboxes dynamically\n",
            "self one prefer javascript\n",
            "save php date...\n",
            "Task WordsTagsCount:\n",
            " javascript,c#,java\n",
            "using,php,java...\n",
            "Task BagOfWords:\n",
            " 7...\n",
            "Task MultilabelClassification:\n",
            " 0\tphp\n",
            "1\tjavascript,jquery\n",
            "2\t\n",
            "3\tjavascript,jquery\n",
            "4\tandroid,java\n",
            "5\tphp,xml\n",
            "6\tjson\n",
            "7\tjava\n",
            "8\tpython\n",
            "9\th...\n"
          ],
          "name": "stdout"
        }
      ]
    },
    {
      "cell_type": "code",
      "metadata": {
        "id": "Jn4TosC3smUH",
        "colab": {
          "base_uri": "https://localhost:8080/"
        },
        "outputId": "8f3a1949-f029-4ebe-cf96-226defefd78e"
      },
      "source": [
        "STUDENT_EMAIL = \"18211a05w9@bvrit.ac.in\"# EMAIL \n",
        "STUDENT_TOKEN = \"VavJQUgTeWDqzXTv\"# TOKEN \n",
        "grader.status()"
      ],
      "execution_count": 108,
      "outputs": [
        {
          "output_type": "stream",
          "text": [
            "You want to submit these parts:\n",
            "Task TextPrepare:\n",
            " sqlite php readonly\n",
            "creating multiple textboxes dynamically\n",
            "self one prefer javascript\n",
            "save php date...\n",
            "Task WordsTagsCount:\n",
            " javascript,c#,java\n",
            "using,php,java...\n",
            "Task BagOfWords:\n",
            " 7...\n",
            "Task MultilabelClassification:\n",
            " 0\tphp\n",
            "1\tjavascript,jquery\n",
            "2\t\n",
            "3\tjavascript,jquery\n",
            "4\tandroid,java\n",
            "5\tphp,xml\n",
            "6\tjson\n",
            "7\tjava\n",
            "8\tpython\n",
            "9\th...\n"
          ],
          "name": "stdout"
        }
      ]
    },
    {
      "cell_type": "code",
      "metadata": {
        "id": "YiK6aDUxsmW_",
        "colab": {
          "base_uri": "https://localhost:8080/"
        },
        "outputId": "c067366f-eecd-4d3b-c8ff-443512a12a51"
      },
      "source": [
        "grader.submit(STUDENT_EMAIL, STUDENT_TOKEN)\n"
      ],
      "execution_count": 109,
      "outputs": [
        {
          "output_type": "stream",
          "text": [
            "You used an invalid email or your token may have expired. Please make sure you have entered all fields correctly. Try generating a new token if the issue still persists.\n"
          ],
          "name": "stdout"
        }
      ]
    },
    {
      "cell_type": "code",
      "metadata": {
        "id": "9e1vEnexsmSJ"
      },
      "source": [
        ""
      ],
      "execution_count": 109,
      "outputs": []
    },
    {
      "cell_type": "code",
      "metadata": {
        "id": "oFZitNzXsmM_"
      },
      "source": [
        ""
      ],
      "execution_count": 109,
      "outputs": []
    }
  ]
}